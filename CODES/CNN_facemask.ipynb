{
 "cells": [
  {
   "cell_type": "code",
   "execution_count": 1,
   "metadata": {},
   "outputs": [
    {
     "name": "stderr",
     "output_type": "stream",
     "text": [
      "2023-06-21 11:57:47.673655: I tensorflow/stream_executor/platform/default/dso_loader.cc:49] Successfully opened dynamic library libcudart.so.10.1\n"
     ]
    }
   ],
   "source": [
    "import tensorflow as tf\n",
    "from matplotlib import pyplot\n",
    "from tensorflow.keras.datasets import fashion_mnist\n",
    "from sklearn.model_selection import train_test_split\n",
    "from tensorflow.keras.applications.mobilenet_v2 import preprocess_input\n",
    "from tensorflow.keras.preprocessing.image import img_to_array\n",
    "\n",
    "from tensorflow.keras.utils import to_categorical\n",
    "from tensorflow.keras.models import Sequential\n",
    "from tensorflow.keras.layers import Conv2D\n",
    "from tensorflow.keras.layers import BatchNormalization\n",
    "from tensorflow.keras.layers import MaxPooling2D\n",
    "from tensorflow.keras.layers import Dense\n",
    "from tensorflow.keras.layers import Flatten\n",
    "from tensorflow.keras.layers import Dropout\n",
    "from tensorflow.keras.optimizers import SGD, Adam, RMSprop\n",
    "from tensorflow.keras.preprocessing.image import ImageDataGenerator\n",
    "\n",
    "from tensorflow.keras.models import Model\n",
    "from tensorflow.keras.models import load_model\n",
    "\n",
    "from tensorflow.keras.callbacks import ModelCheckpoint, EarlyStopping, ReduceLROnPlateau\n",
    "\n",
    "import glob\n",
    "import os,cv2\n",
    "import numpy as np"
   ]
  },
  {
   "cell_type": "code",
   "execution_count": 2,
   "metadata": {},
   "outputs": [],
   "source": [
    "mask_weared_incorrect_path = glob.glob('Dataset/mask_weared_incorrect/*.png')\n",
    "with_mask_path = glob.glob('Dataset/with_mask/*.png')\n",
    "without_mask_path = glob.glob('Dataset/without_mask/*.png')\n",
    "image_path = mask_weared_incorrect_path + with_mask_path + without_mask_path\n",
    "\n",
    "label_incorrect_mask = []\n",
    "label_mask = []\n",
    "label_no_mask = []\n",
    "labels = []\n",
    "images = []\n",
    "\n",
    "def prepare_data(image_path):\n",
    "\n",
    "    for image_paths in image_path:\n",
    "        # load the input image (224x224) and preprocess it\n",
    "        image = cv2.imread(image_paths)\n",
    "        image = cv2.cvtColor(image, cv2.COLOR_BGR2RGB)\n",
    "        image = cv2.resize(image, (128, 128))\n",
    "        image = img_to_array(image)\n",
    "        image = preprocess_input(image)\n",
    "      # update the data and labels lists, respectively\n",
    "        images.append(image)\n",
    "\n",
    "    # convert the data and labels to NumPy arrays\n",
    "    data = np.array(images, dtype=\"float32\")\n",
    "    \n",
    "    for i in mask_weared_incorrect_path:\n",
    "        label_incorrect_mask.append(2) # represent that the person is wearing incorrect mask.\n",
    "    for i in with_mask_path:\n",
    "        label_mask.append(1)    # represent that the person is wearing mask.\n",
    "    for a in without_mask_path:\n",
    "        label_no_mask.append(0) # represent that the person is not wearing mask.\n",
    "\n",
    "    label = label_incorrect_mask + label_mask + label_no_mask\n",
    "    labels = np.array(label)\n",
    "\n",
    "    return data, labels\n",
    "\n",
    "data, labels = prepare_data(image_path)"
   ]
  },
  {
   "cell_type": "code",
   "execution_count": 3,
   "metadata": {},
   "outputs": [
    {
     "name": "stdout",
     "output_type": "stream",
     "text": [
      "(5748, 128, 128, 3)\n",
      "(1797, 128, 128, 3)\n",
      "(1437, 128, 128, 3)\n",
      "(5748, 3)\n",
      "(1797, 3)\n",
      "(1437, 3)\n"
     ]
    }
   ],
   "source": [
    "def split_data(data, labels):\n",
    "    (X_train, X_test, y_train, y_test) = train_test_split(data, labels, test_size=0.2, shuffle=True, random_state=0)\n",
    "    (X_train, X_val, y_train, y_val) = train_test_split(X_train, y_train, test_size=0.2, shuffle=True, random_state=0)\n",
    "    X_train = X_train.astype(\"float32\") / 255.0\n",
    "    X_test = X_test.astype(\"float32\") / 255.0\n",
    "    X_val = X_val.astype(\"float32\") / 255.0\n",
    "    y_train = to_categorical(y_train, 3)\n",
    "    y_test = to_categorical(y_test, 3)\n",
    "    y_val = to_categorical(y_val, 3)\n",
    "    return X_train, X_test, X_val, y_train, y_test, y_val\n",
    "\n",
    "X_train, X_test, X_val, y_train, y_test, y_val = split_data(data, labels)\n",
    "\n",
    "print(X_train.shape)\n",
    "print(X_test.shape)\n",
    "print(X_val.shape)\n",
    "print(y_train.shape)\n",
    "print(y_test.shape)\n",
    "print(y_val.shape)"
   ]
  },
  {
   "cell_type": "code",
   "execution_count": 4,
   "metadata": {},
   "outputs": [],
   "source": [
    "datagen = ImageDataGenerator(        \n",
    "        featurewise_center=False,  # set input mean to 0 over the dataset\n",
    "        samplewise_center=False,  # set each sample mean to 0\n",
    "        featurewise_std_normalization=False,  # divide inputs by std of the dataset\n",
    "        samplewise_std_normalization=False,  # divide each input by its std\n",
    "        zca_whitening=False,  # apply ZCA whitening\n",
    "        rotation_range=10,  # randomly rotate images in the range (degrees, 0 to 180)\n",
    "        zoom_range = 0.1, # Randomly zoom image \n",
    "        width_shift_range=0.2,  # randomly shift images horizontally (fraction of total width)\n",
    "        height_shift_range=0.2,  # randomly shift images vertically (fraction of total height)\n",
    "        horizontal_flip=True,  # randomly flip images\n",
    "        vertical_flip=False)  # randomly flip images)\n",
    "\n",
    "datagen.fit(X_train)"
   ]
  },
  {
   "cell_type": "code",
   "execution_count": 5,
   "metadata": {},
   "outputs": [
    {
     "name": "stderr",
     "output_type": "stream",
     "text": [
      "2023-06-21 11:57:58.629247: I tensorflow/compiler/jit/xla_cpu_device.cc:41] Not creating XLA devices, tf_xla_enable_xla_devices not set\n",
      "2023-06-21 11:57:58.629982: I tensorflow/stream_executor/platform/default/dso_loader.cc:49] Successfully opened dynamic library libcuda.so.1\n",
      "2023-06-21 11:57:58.668425: I tensorflow/core/common_runtime/gpu/gpu_device.cc:1720] Found device 0 with properties: \n",
      "pciBusID: 0000:68:00.0 name: NVIDIA GeForce RTX 2080 Ti computeCapability: 7.5\n",
      "coreClock: 1.545GHz coreCount: 68 deviceMemorySize: 10.76GiB deviceMemoryBandwidth: 573.69GiB/s\n",
      "2023-06-21 11:57:58.668455: I tensorflow/stream_executor/platform/default/dso_loader.cc:49] Successfully opened dynamic library libcudart.so.10.1\n",
      "2023-06-21 11:57:58.670662: I tensorflow/stream_executor/platform/default/dso_loader.cc:49] Successfully opened dynamic library libcublas.so.10\n",
      "2023-06-21 11:57:58.670728: I tensorflow/stream_executor/platform/default/dso_loader.cc:49] Successfully opened dynamic library libcublasLt.so.10\n",
      "2023-06-21 11:57:58.672462: I tensorflow/stream_executor/platform/default/dso_loader.cc:49] Successfully opened dynamic library libcufft.so.10\n",
      "2023-06-21 11:57:58.673025: I tensorflow/stream_executor/platform/default/dso_loader.cc:49] Successfully opened dynamic library libcurand.so.10\n",
      "2023-06-21 11:57:58.674319: I tensorflow/stream_executor/platform/default/dso_loader.cc:49] Successfully opened dynamic library libcusolver.so.10\n",
      "2023-06-21 11:57:58.675300: I tensorflow/stream_executor/platform/default/dso_loader.cc:49] Successfully opened dynamic library libcusparse.so.10\n",
      "2023-06-21 11:57:58.677847: I tensorflow/stream_executor/platform/default/dso_loader.cc:49] Successfully opened dynamic library libcudnn.so.7\n",
      "2023-06-21 11:57:58.678138: I tensorflow/core/common_runtime/gpu/gpu_device.cc:1862] Adding visible gpu devices: 0\n",
      "2023-06-21 11:57:58.678466: I tensorflow/core/platform/cpu_feature_guard.cc:142] This TensorFlow binary is optimized with oneAPI Deep Neural Network Library (oneDNN) to use the following CPU instructions in performance-critical operations:  SSE4.1 SSE4.2 AVX AVX2 AVX512F FMA\n",
      "To enable them in other operations, rebuild TensorFlow with the appropriate compiler flags.\n",
      "2023-06-21 11:57:58.679376: I tensorflow/compiler/jit/xla_gpu_device.cc:99] Not creating XLA devices, tf_xla_enable_xla_devices not set\n",
      "2023-06-21 11:57:58.679579: I tensorflow/core/common_runtime/gpu/gpu_device.cc:1720] Found device 0 with properties: \n",
      "pciBusID: 0000:68:00.0 name: NVIDIA GeForce RTX 2080 Ti computeCapability: 7.5\n",
      "coreClock: 1.545GHz coreCount: 68 deviceMemorySize: 10.76GiB deviceMemoryBandwidth: 573.69GiB/s\n",
      "2023-06-21 11:57:58.679593: I tensorflow/stream_executor/platform/default/dso_loader.cc:49] Successfully opened dynamic library libcudart.so.10.1\n",
      "2023-06-21 11:57:58.679609: I tensorflow/stream_executor/platform/default/dso_loader.cc:49] Successfully opened dynamic library libcublas.so.10\n",
      "2023-06-21 11:57:58.679616: I tensorflow/stream_executor/platform/default/dso_loader.cc:49] Successfully opened dynamic library libcublasLt.so.10\n",
      "2023-06-21 11:57:58.679623: I tensorflow/stream_executor/platform/default/dso_loader.cc:49] Successfully opened dynamic library libcufft.so.10\n",
      "2023-06-21 11:57:58.679630: I tensorflow/stream_executor/platform/default/dso_loader.cc:49] Successfully opened dynamic library libcurand.so.10\n",
      "2023-06-21 11:57:58.679636: I tensorflow/stream_executor/platform/default/dso_loader.cc:49] Successfully opened dynamic library libcusolver.so.10\n",
      "2023-06-21 11:57:58.679643: I tensorflow/stream_executor/platform/default/dso_loader.cc:49] Successfully opened dynamic library libcusparse.so.10\n",
      "2023-06-21 11:57:58.679650: I tensorflow/stream_executor/platform/default/dso_loader.cc:49] Successfully opened dynamic library libcudnn.so.7\n",
      "2023-06-21 11:57:58.679873: I tensorflow/core/common_runtime/gpu/gpu_device.cc:1862] Adding visible gpu devices: 0\n",
      "2023-06-21 11:57:58.679892: I tensorflow/stream_executor/platform/default/dso_loader.cc:49] Successfully opened dynamic library libcudart.so.10.1\n",
      "2023-06-21 11:57:59.090150: I tensorflow/core/common_runtime/gpu/gpu_device.cc:1261] Device interconnect StreamExecutor with strength 1 edge matrix:\n",
      "2023-06-21 11:57:59.090175: I tensorflow/core/common_runtime/gpu/gpu_device.cc:1267]      0 \n",
      "2023-06-21 11:57:59.090179: I tensorflow/core/common_runtime/gpu/gpu_device.cc:1280] 0:   N \n",
      "2023-06-21 11:57:59.090665: I tensorflow/core/common_runtime/gpu/gpu_device.cc:1406] Created TensorFlow device (/job:localhost/replica:0/task:0/device:GPU:0 with 10075 MB memory) -> physical GPU (device: 0, name: NVIDIA GeForce RTX 2080 Ti, pci bus id: 0000:68:00.0, compute capability: 7.5)\n"
     ]
    }
   ],
   "source": [
    "# This cnn architecture refers to the below link:\n",
    "#https://www.kaggle.com/code/muhammetzahitaydn/mask-detection-cnn-resnet50-efficientnet/notebook\n",
    "model = Sequential([\n",
    "    Conv2D(64, kernel_size=(3, 3), activation='relu',input_shape=(128,128,3)),\n",
    "    BatchNormalization(),\n",
    "    MaxPooling2D(pool_size=(2, 2),strides=2),\n",
    "    Dropout(0.3),\n",
    "    Conv2D(64, kernel_size=(3, 3), activation='relu'),\n",
    "    Dropout(0.3),\n",
    "    MaxPooling2D(pool_size=(2, 2),strides=2),\n",
    "    Conv2D(64, kernel_size=(3, 3), activation='relu'),\n",
    "    Dropout(0.3),\n",
    "    MaxPooling2D(pool_size=(2, 2),strides=2),\n",
    "    Flatten(),\n",
    "    Dense(128, activation='relu'),\n",
    "    Dense(3, activation='softmax')\n",
    "])\n",
    "\n",
    "# Compile model with cross-entropy loss and Adam optimizer\n",
    "model.compile(\n",
    "    optimizer='adam',\n",
    "    loss=\"categorical_crossentropy\",\n",
    "    metrics=['accuracy']\n",
    ")\n",
    "\n",
    "# Train model on training set\n"
   ]
  },
  {
   "cell_type": "code",
   "execution_count": 6,
   "metadata": {},
   "outputs": [
    {
     "name": "stderr",
     "output_type": "stream",
     "text": [
      "2023-06-21 11:57:59.278172: I tensorflow/compiler/mlir/mlir_graph_optimization_pass.cc:116] None of the MLIR optimization passes are enabled (registered 2)\n",
      "2023-06-21 11:57:59.290033: I tensorflow/core/platform/profile_utils/cpu_utils.cc:112] CPU Frequency: 3700000000 Hz\n"
     ]
    },
    {
     "name": "stdout",
     "output_type": "stream",
     "text": [
      "Epoch 1/50\n"
     ]
    },
    {
     "name": "stderr",
     "output_type": "stream",
     "text": [
      "2023-06-21 11:57:59.591814: I tensorflow/stream_executor/platform/default/dso_loader.cc:49] Successfully opened dynamic library libcublas.so.10\n",
      "2023-06-21 11:57:59.738105: I tensorflow/stream_executor/platform/default/dso_loader.cc:49] Successfully opened dynamic library libcudnn.so.7\n",
      "2023-06-21 11:58:00.386217: W tensorflow/stream_executor/gpu/asm_compiler.cc:63] Running ptxas --version returned 256\n",
      "2023-06-21 11:58:00.439531: W tensorflow/stream_executor/gpu/redzone_allocator.cc:314] Internal: ptxas exited with non-zero error code 256, output: \n",
      "Relying on driver to perform ptx compilation. \n",
      "Modify $PATH to customize ptxas location.\n",
      "This message will be only logged once.\n"
     ]
    },
    {
     "name": "stdout",
     "output_type": "stream",
     "text": [
      "179/179 [==============================] - 27s 116ms/step - loss: 0.6391 - accuracy: 0.7351 - val_loss: 1.5798 - val_accuracy: 0.3396\n",
      "Epoch 2/50\n",
      "179/179 [==============================] - 13s 70ms/step - loss: 0.4399 - accuracy: 0.8324 - val_loss: 1.0196 - val_accuracy: 0.4377\n",
      "Epoch 3/50\n",
      "179/179 [==============================] - 12s 70ms/step - loss: 0.3633 - accuracy: 0.8624 - val_loss: 0.6430 - val_accuracy: 0.6973\n",
      "Epoch 4/50\n",
      "179/179 [==============================] - 13s 70ms/step - loss: 0.2981 - accuracy: 0.8850 - val_loss: 0.4023 - val_accuracy: 0.8622\n",
      "Epoch 5/50\n",
      "179/179 [==============================] - 13s 70ms/step - loss: 0.2495 - accuracy: 0.9102 - val_loss: 0.2057 - val_accuracy: 0.9395\n",
      "Epoch 6/50\n",
      "179/179 [==============================] - 12s 70ms/step - loss: 0.1962 - accuracy: 0.9277 - val_loss: 0.2461 - val_accuracy: 0.9353\n",
      "Epoch 7/50\n",
      "179/179 [==============================] - 13s 70ms/step - loss: 0.1847 - accuracy: 0.9340 - val_loss: 0.1858 - val_accuracy: 0.9464\n",
      "Epoch 8/50\n",
      "179/179 [==============================] - 13s 70ms/step - loss: 0.1590 - accuracy: 0.9425 - val_loss: 0.1696 - val_accuracy: 0.9402\n",
      "Epoch 9/50\n",
      "179/179 [==============================] - 12s 70ms/step - loss: 0.1686 - accuracy: 0.9394 - val_loss: 0.1773 - val_accuracy: 0.9429\n",
      "Epoch 10/50\n",
      "179/179 [==============================] - 12s 70ms/step - loss: 0.1329 - accuracy: 0.9545 - val_loss: 0.1943 - val_accuracy: 0.9297\n",
      "Epoch 11/50\n",
      "179/179 [==============================] - 12s 70ms/step - loss: 0.1025 - accuracy: 0.9638 - val_loss: 0.1294 - val_accuracy: 0.9624\n",
      "Epoch 12/50\n",
      "179/179 [==============================] - 12s 70ms/step - loss: 0.0899 - accuracy: 0.9693 - val_loss: 0.1095 - val_accuracy: 0.9631\n",
      "Epoch 13/50\n",
      "179/179 [==============================] - 13s 70ms/step - loss: 0.0807 - accuracy: 0.9749 - val_loss: 0.0965 - val_accuracy: 0.9687\n",
      "Epoch 14/50\n",
      "179/179 [==============================] - 13s 70ms/step - loss: 0.0812 - accuracy: 0.9713 - val_loss: 0.1013 - val_accuracy: 0.9701\n",
      "Epoch 15/50\n",
      "179/179 [==============================] - 12s 69ms/step - loss: 0.0849 - accuracy: 0.9712 - val_loss: 0.1233 - val_accuracy: 0.9582\n",
      "Epoch 16/50\n",
      "179/179 [==============================] - 12s 69ms/step - loss: 0.0664 - accuracy: 0.9775 - val_loss: 0.0991 - val_accuracy: 0.9680\n",
      "Epoch 17/50\n",
      "179/179 [==============================] - 12s 70ms/step - loss: 0.0627 - accuracy: 0.9771 - val_loss: 0.0881 - val_accuracy: 0.9736\n",
      "Epoch 18/50\n",
      "179/179 [==============================] - 13s 70ms/step - loss: 0.0635 - accuracy: 0.9781 - val_loss: 0.1084 - val_accuracy: 0.9645\n",
      "Epoch 19/50\n",
      "179/179 [==============================] - 12s 70ms/step - loss: 0.0748 - accuracy: 0.9745 - val_loss: 0.0833 - val_accuracy: 0.9777\n",
      "Epoch 20/50\n",
      "179/179 [==============================] - 12s 70ms/step - loss: 0.0699 - accuracy: 0.9768 - val_loss: 0.1537 - val_accuracy: 0.9596\n",
      "Epoch 21/50\n",
      "179/179 [==============================] - 12s 70ms/step - loss: 0.0582 - accuracy: 0.9810 - val_loss: 16.0316 - val_accuracy: 0.3361\n",
      "Epoch 22/50\n",
      "179/179 [==============================] - 12s 70ms/step - loss: 0.0631 - accuracy: 0.9797 - val_loss: 0.1479 - val_accuracy: 0.9464\n",
      "Epoch 23/50\n",
      "179/179 [==============================] - 12s 70ms/step - loss: 0.0559 - accuracy: 0.9802 - val_loss: 0.0796 - val_accuracy: 0.9777\n",
      "Epoch 24/50\n",
      "179/179 [==============================] - 12s 69ms/step - loss: 0.0497 - accuracy: 0.9843 - val_loss: 0.0804 - val_accuracy: 0.9729\n",
      "Epoch 00024: early stopping\n"
     ]
    }
   ],
   "source": [
    "batch_size=32\n",
    "early = EarlyStopping(monitor='val_accuracy', patience=5, verbose=1, mode='auto')\n",
    "#checkpoint = ModelCheckpoint(\"mask_model.h5\", monitor='val_accuracy', verbose=1, \n",
    "#                             save_best_only=True, save_weights_only=False, mode='auto')\n",
    "learning_rate_reduction = ReduceLROnPlateau(\n",
    "    monitor = \"val_accuracy\",\n",
    "    factor = 0.5,\n",
    "    patience = 3,\n",
    "    verbose = 0,\n",
    "    min_lr = 0.00001\n",
    ")\n",
    "history = model.fit(datagen.flow(X_train, y_train), batch_size=batch_size, epochs=50, validation_data=(X_val, y_val),callbacks=[learning_rate_reduction, early],\n",
    "                    verbose = 1, steps_per_epoch=X_train.shape[0] // batch_size)\n",
    "model.save('mask_model.h5')"
   ]
  },
  {
   "cell_type": "code",
   "execution_count": 7,
   "metadata": {},
   "outputs": [
    {
     "name": "stdout",
     "output_type": "stream",
     "text": [
      "test: 0.9788536429405212\n",
      "train: 0.9904314279556274\n",
      "val: 0.9728600978851318\n"
     ]
    }
   ],
   "source": [
    "_,acc = model.evaluate(X_test, y_test, verbose=0)\n",
    "print('test:',acc)\n",
    "_,acc = model.evaluate(X_train, y_train, verbose=0)\n",
    "print('train:',acc)\n",
    "_,acc = model.evaluate(X_val, y_val, verbose=0)\n",
    "print('val:',acc)"
   ]
  },
  {
   "cell_type": "code",
   "execution_count": 8,
   "metadata": {},
   "outputs": [
    {
     "data": {
      "image/png": "[encoded data removed]",
      "text/plain": [
       "<Figure size 1500x1500 with 2 Axes>"
      ]
     },
     "metadata": {},
     "output_type": "display_data"
    }
   ],
   "source": [
    "acc = history.history['accuracy']\n",
    "val_acc = history.history['val_accuracy']\n",
    "loss = history.history['loss']\n",
    "val_loss = history.history['val_loss']\n",
    "\n",
    "\n",
    "pyplot.figure(figsize=(15, 15))\n",
    "pyplot.subplot(2, 2, 1)\n",
    "pyplot.plot(acc, color=\"blue\", label='Training Accuracy')\n",
    "pyplot.plot(val_acc, color=\"orange\", label='Validation Accuracy')\n",
    "pyplot.legend(loc='lower right')\n",
    "pyplot.title('Training and Validation Accuracy')\n",
    "\n",
    "pyplot.subplot(2, 2, 2)\n",
    "pyplot.plot(loss, color=\"blue\", label='Training Loss')\n",
    "pyplot.plot(val_loss, color=\"orange\", label='Validation Loss')\n",
    "pyplot.legend(loc='upper right')\n",
    "pyplot.title('Training and Validation Loss')\n",
    "#pyplot.show()\n",
    "pyplot.savefig(\"Facemask_learningratereduction.png\")"
   ]
  },
  {
   "cell_type": "code",
   "execution_count": 9,
   "metadata": {},
   "outputs": [
    {
     "name": "stdout",
     "output_type": "stream",
     "text": [
      "Epoch 1/50\n",
      "180/180 [==============================] - 0s 1ms/step - loss: 1.2718 - accuracy: 0.5417 - val_loss: 0.1839 - val_accuracy: 0.9436\n",
      "Epoch 2/50\n",
      "180/180 [==============================] - 0s 894us/step - loss: 0.1291 - accuracy: 0.9656 - val_loss: 0.1171 - val_accuracy: 0.9722\n",
      "Epoch 3/50\n",
      "180/180 [==============================] - 0s 886us/step - loss: 0.0794 - accuracy: 0.9789 - val_loss: 0.0959 - val_accuracy: 0.9756\n",
      "Epoch 4/50\n",
      "180/180 [==============================] - 0s 890us/step - loss: 0.0570 - accuracy: 0.9839 - val_loss: 0.0854 - val_accuracy: 0.9791\n",
      "Epoch 5/50\n",
      "180/180 [==============================] - 0s 892us/step - loss: 0.0459 - accuracy: 0.9889 - val_loss: 0.0787 - val_accuracy: 0.9805\n",
      "Epoch 6/50\n",
      "180/180 [==============================] - 0s 877us/step - loss: 0.0389 - accuracy: 0.9899 - val_loss: 0.0752 - val_accuracy: 0.9812\n",
      "Epoch 7/50\n",
      "180/180 [==============================] - 0s 889us/step - loss: 0.0356 - accuracy: 0.9914 - val_loss: 0.0729 - val_accuracy: 0.9819\n",
      "Epoch 8/50\n",
      "180/180 [==============================] - 0s 882us/step - loss: 0.0300 - accuracy: 0.9917 - val_loss: 0.0705 - val_accuracy: 0.9819\n",
      "Epoch 9/50\n",
      "180/180 [==============================] - 0s 882us/step - loss: 0.0265 - accuracy: 0.9940 - val_loss: 0.0693 - val_accuracy: 0.9812\n",
      "Epoch 10/50\n",
      "180/180 [==============================] - 0s 895us/step - loss: 0.0217 - accuracy: 0.9951 - val_loss: 0.0681 - val_accuracy: 0.9812\n",
      "Epoch 11/50\n",
      "180/180 [==============================] - 0s 949us/step - loss: 0.0234 - accuracy: 0.9940 - val_loss: 0.0685 - val_accuracy: 0.9819\n",
      "Epoch 12/50\n",
      "180/180 [==============================] - 0s 1ms/step - loss: 0.0222 - accuracy: 0.9920 - val_loss: 0.0678 - val_accuracy: 0.9819\n",
      "Epoch 00012: early stopping\n",
      "test: 0.9838619828224182\n",
      "train: 0.9942588806152344\n",
      "val: 0.9819067716598511\n"
     ]
    }
   ],
   "source": [
    "model1 = load_model(\"mask_model.h5\")\n",
    "model1_last_layer_output = Model(inputs=model1.input, outputs=model1.layers[-2].output)\n",
    "model1_last_layer_output_train = model1_last_layer_output.predict(X_train, batch_size=32)\n",
    "model1_last_layer_output_val = model1_last_layer_output.predict(X_val, batch_size=32)\n",
    "model1_last_layer_output_test = model1_last_layer_output.predict(X_test, batch_size=32)\n",
    "\n",
    "\n",
    "model2 = Sequential()\n",
    "\n",
    "model2.add(Dense(3, activation='softmax'))\n",
    "    # compile model\n",
    "model2.compile(loss='categorical_crossentropy', optimizer='adam', metrics=['accuracy'])\n",
    "\n",
    "early = EarlyStopping(monitor='val_accuracy', patience=5, verbose=1, mode='auto')\n",
    "# checkpoint = ModelCheckpoint(\"mask_model2.h5\", monitor='val_accuracy', verbose=1, \n",
    "#                              save_best_only=True, save_weights_only=False, mode='auto')\n",
    "learning_rate_reduction = ReduceLROnPlateau(\n",
    "    monitor = \"val_accuracy\",\n",
    "    factor = 0.5,\n",
    "    patience = 3,\n",
    "    verbose = 0,\n",
    "    min_lr = 0.00001\n",
    ")\n",
    "model2.fit(model1_last_layer_output_train, y_train, epochs=50, validation_data=(model1_last_layer_output_val, y_val),callbacks=[learning_rate_reduction, early], batch_size=32)\n",
    "\n",
    "\n",
    "_,acc = model2.evaluate(model1_last_layer_output_test, y_test, verbose=0)\n",
    "print(\"test:\",acc)\n",
    "_, acc = model2.evaluate(model1_last_layer_output_train, y_train, verbose=0)\n",
    "print(\"train:\",acc)\n",
    "_,acc = model2.evaluate(model1_last_layer_output_val, y_val, verbose=0)\n",
    "print(\"val:\",acc)\n",
    "\n",
    "\n",
    "del model1_last_layer_output_train\n",
    "del model1_last_layer_output_val\n",
    "del model1_last_layer_output_test\n",
    "del model1, model2\n",
    "tf.keras.backend.clear_session()"
   ]
  },
  {
   "cell_type": "code",
   "execution_count": 10,
   "metadata": {},
   "outputs": [
    {
     "name": "stdout",
     "output_type": "stream",
     "text": [
      "Epoch 1/50\n",
      "180/180 [==============================] - 0s 1ms/step - loss: 0.4828 - accuracy: 0.8201 - val_loss: 0.1219 - val_accuracy: 0.9652\n",
      "Epoch 2/50\n",
      "180/180 [==============================] - 0s 899us/step - loss: 0.0808 - accuracy: 0.9773 - val_loss: 0.1021 - val_accuracy: 0.9736\n",
      "Epoch 3/50\n",
      "180/180 [==============================] - 0s 898us/step - loss: 0.0569 - accuracy: 0.9867 - val_loss: 0.0933 - val_accuracy: 0.9743\n",
      "Epoch 4/50\n",
      "180/180 [==============================] - 0s 884us/step - loss: 0.0505 - accuracy: 0.9872 - val_loss: 0.0879 - val_accuracy: 0.9756\n",
      "Epoch 5/50\n",
      "180/180 [==============================] - 0s 916us/step - loss: 0.0452 - accuracy: 0.9877 - val_loss: 0.0842 - val_accuracy: 0.9763\n",
      "Epoch 6/50\n",
      "180/180 [==============================] - 0s 893us/step - loss: 0.0419 - accuracy: 0.9905 - val_loss: 0.0810 - val_accuracy: 0.9805\n",
      "Epoch 7/50\n",
      "180/180 [==============================] - 0s 880us/step - loss: 0.0382 - accuracy: 0.9916 - val_loss: 0.0791 - val_accuracy: 0.9805\n",
      "Epoch 8/50\n",
      "180/180 [==============================] - 0s 891us/step - loss: 0.0324 - accuracy: 0.9930 - val_loss: 0.0774 - val_accuracy: 0.9805\n",
      "Epoch 9/50\n",
      "180/180 [==============================] - 0s 898us/step - loss: 0.0359 - accuracy: 0.9918 - val_loss: 0.0761 - val_accuracy: 0.9805\n",
      "Epoch 10/50\n",
      "180/180 [==============================] - 0s 887us/step - loss: 0.0286 - accuracy: 0.9946 - val_loss: 0.0755 - val_accuracy: 0.9805\n",
      "Epoch 11/50\n",
      "180/180 [==============================] - 0s 911us/step - loss: 0.0296 - accuracy: 0.9937 - val_loss: 0.0751 - val_accuracy: 0.9805\n",
      "Epoch 00011: early stopping\n",
      "test: 0.9782971739768982\n",
      "train: 0.993215024471283\n",
      "val: 0.9805149435997009\n"
     ]
    }
   ],
   "source": [
    "model1 = load_model(\"mask_model.h5\")\n",
    "model1_last_layer_output = Model(inputs=model1.input, outputs=model1.layers[-2].output)\n",
    "model1_last_layer_output_train = model1_last_layer_output.predict(X_train, batch_size=32)\n",
    "model1_last_layer_output_val = model1_last_layer_output.predict(X_val, batch_size=32)\n",
    "model1_last_layer_output_test = model1_last_layer_output.predict(X_test, batch_size=32)\n",
    "\n",
    "\n",
    "model2 = Sequential()\n",
    "\n",
    "model2.add(Dense(3, activation='softmax'))\n",
    "    # compile model\n",
    "opt = SGD(learning_rate=0.001, momentum=0.9)\n",
    "model2.compile(loss='categorical_crossentropy', optimizer=opt, metrics=['accuracy'])\n",
    "\n",
    "early = EarlyStopping(monitor='val_accuracy', patience=5, verbose=1, mode='auto')\n",
    "# checkpoint = ModelCheckpoint(\"mask_model3.h5\", monitor='val_accuracy', verbose=1, \n",
    "#                              save_best_only=True, save_weights_only=False, mode='auto')\n",
    "learning_rate_reduction = ReduceLROnPlateau(\n",
    "    monitor = \"val_accuracy\",\n",
    "    factor = 0.5,\n",
    "    patience = 3,\n",
    "    verbose = 0,\n",
    "    min_lr = 0.00001\n",
    ")\n",
    "model2.fit(model1_last_layer_output_train, y_train, epochs=50, validation_data=(model1_last_layer_output_val, y_val),callbacks=[learning_rate_reduction, early], batch_size=32)\n",
    "\n",
    "\n",
    "_,acc = model2.evaluate(model1_last_layer_output_test, y_test, verbose=0)\n",
    "print(\"test:\",acc)\n",
    "_, acc = model2.evaluate(model1_last_layer_output_train, y_train, verbose=0)\n",
    "print(\"train:\",acc)\n",
    "_,acc = model2.evaluate(model1_last_layer_output_val, y_val, verbose=0)\n",
    "print(\"val:\",acc)\n",
    "\n",
    "\n",
    "del model1_last_layer_output_train\n",
    "del model1_last_layer_output_val\n",
    "del model1_last_layer_output_test\n",
    "del model1, model2\n",
    "tf.keras.backend.clear_session()"
   ]
  },
  {
   "cell_type": "code",
   "execution_count": null,
   "metadata": {},
   "outputs": [],
   "source": []
  }
 ],
 "metadata": {
  "kernelspec": {
   "display_name": "Python 3",
   "language": "python",
   "name": "python3"
  },
  "language_info": {
   "codemirror_mode": {
    "name": "ipython",
    "version": 3
   },
   "file_extension": ".py",
   "mimetype": "text/x-python",
   "name": "python",
   "nbconvert_exporter": "python",
   "pygments_lexer": "ipython3",
   "version": "3.7.1"
  }
 },
 "nbformat": 4,
 "nbformat_minor": 5
}
